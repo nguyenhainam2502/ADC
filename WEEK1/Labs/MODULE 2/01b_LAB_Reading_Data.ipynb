{
 "cells": [
  {
   "cell_type": "markdown",
   "metadata": {},
   "source": [
    "# Machine Learning Foundation\n",
    "\n",
    "## Section 1, Part b: Reading Data Lab\n"
   ]
  },
  {
   "cell_type": "code",
   "execution_count": 1,
   "metadata": {},
   "outputs": [],
   "source": [
    "\n",
    "# Nạp sqlite3 để làm việc với cơ sở dữ liệu SQLite\n",
    "import sqlite3 as sq3\n",
    "# Nạp pandas.io.sql để đọc/truy vấn SQL và đưa vào DataFrame\n",
    "import pandas.io.sql as pds\n",
    "# Nạp pandas để thao tác dữ liệu dạng bảng (DataFrame)\n",
    "import pandas as pd"
   ]
  },
  {
   "cell_type": "code",
   "execution_count": 3,
   "metadata": {},
   "outputs": [
    {
     "data": {
      "text/plain": [
       "('baseball.db', <http.client.HTTPMessage at 0x253bf8faad0>)"
      ]
     },
     "execution_count": 3,
     "metadata": {},
     "output_type": "execute_result"
    }
   ],
   "source": [
    "# Nạp urllib.request để tải file dữ liệu qua HTTP\n",
    "import urllib.request\n",
    "\n",
    "# Khai báo URL nguồn dữ liệu (file SQLite .db)\n",
    "url = \"https://cf-courses-data.s3.us.cloud-object-storage.appdomain.cloud/IBM-ML0232EN-SkillsNetwork/asset/baseball.db\"\n",
    "# Đặt tên file đích khi lưu dữ liệu\n",
    "filename = \"baseball.db\"\n",
    "\n",
    "# Tải dữ liệu từ URL và lưu về máy\n",
    "urllib.request.urlretrieve(url, filename)"
   ]
  },
  {
   "cell_type": "code",
   "execution_count": 5,
   "metadata": {},
   "outputs": [
    {
     "name": "stdout",
     "output_type": "stream",
     "text": [
      "    type                  name     tbl_name  rootpage  \\\n",
      "0  table           allstarfull  allstarfull         2   \n",
      "1  index  ix_allstarfull_index  allstarfull         3   \n",
      "2  table               schools      schools        26   \n",
      "3  index      ix_schools_index      schools        31   \n",
      "4  table               batting      batting        99   \n",
      "5  index      ix_batting_index      batting       100   \n",
      "\n",
      "                                                 sql  \n",
      "0  CREATE TABLE \"allstarfull\" (\\n\"index\" INTEGER,...  \n",
      "1  CREATE INDEX \"ix_allstarfull_index\"ON \"allstar...  \n",
      "2  CREATE TABLE \"schools\" (\\n\"index\" INTEGER,\\n  ...  \n",
      "3  CREATE INDEX \"ix_schools_index\"ON \"schools\" (\"...  \n",
      "4  CREATE TABLE \"batting\" (\\n\"index\" INTEGER,\\n  ...  \n",
      "5  CREATE INDEX \"ix_batting_index\"ON \"batting\" (\"...  \n",
      "    playerID  num_games_played  avg_starting_position\n",
      "0  musiast01              24.0               6.357143\n",
      "1   mayswi01              24.0               8.000000\n",
      "2  aaronha01              24.0               8.470588\n"
     ]
    }
   ],
   "source": [
    "\n",
    "\n",
    "# Đặt đường dẫn file SQLite database\n",
    "path = 'baseball.db'\n",
    "\n",
    "\n",
    "# Dòng lệnh phục vụ thao tác/truy vấn dữ liệu\n",
    "con = sq3.Connection(path)\n",
    "\n",
    "\n",
    "\n",
    "# Viết câu truy vấn SQL nhiều dòng dễ đọc\n",
    "query = \"\"\"\n",
    "SELECT *\n",
    "    FROM allstarfull\n",
    "    ;\n",
    "\"\"\"\n",
    "\n",
    "# Đọc dữ liệu từ SQL query hoặc table vào DataFrame pandas\n",
    "allstar_observations = pd.read_sql(query, con)\n",
    "\n",
    "\n",
    "\n",
    "\n",
    "# Đọc dữ liệu từ SQL query hoặc table vào DataFrame pandas\n",
    "all_tables = pd.read_sql('SELECT * FROM sqlite_master', con)\n",
    "# In thông tin ra output\n",
    "print(all_tables)\n",
    "\n",
    "\n",
    "# Dòng lệnh phục vụ thao tác/truy vấn dữ liệu\n",
    "best_query = \"\"\"\n",
    "SELECT playerID, sum(GP) AS num_games_played, AVG(startingPos) AS avg_starting_position\n",
    "    FROM allstarfull\n",
    "    GROUP BY playerID\n",
    "    ORDER BY num_games_played DESC, avg_starting_position ASC\n",
    "    LIMIT 3\n",
    "\"\"\"\n",
    "# Đọc dữ liệu từ SQL query hoặc table vào DataFrame pandas\n",
    "best = pd.read_sql(best_query, con)\n",
    "# Xem nhanh vài dòng đầu tiên của DataFrame\n",
    "print(best.head())\n"
   ]
  }
 ],
 "metadata": {
  "kernelspec": {
   "display_name": "Python 3",
   "language": "python",
   "name": "python3"
  },
  "language_info": {
   "codemirror_mode": {
    "name": "ipython",
    "version": 3
   },
   "file_extension": ".py",
   "mimetype": "text/x-python",
   "name": "python",
   "nbconvert_exporter": "python",
   "pygments_lexer": "ipython3",
   "version": "3.11.9"
  }
 },
 "nbformat": 4,
 "nbformat_minor": 4
}
